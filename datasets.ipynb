{
 "cells": [
  {
   "cell_type": "code",
   "execution_count": null,
   "metadata": {},
   "outputs": [],
   "source": [
    "#With handtracking, masi ada bug blm kelar"
   ]
  },
  {
   "cell_type": "code",
   "execution_count": 1,
   "metadata": {},
   "outputs": [
    {
     "name": "stderr",
     "output_type": "stream",
     "text": [
      "2024-02-14 23:39:11.453095: I tensorflow/core/platform/cpu_feature_guard.cc:182] This TensorFlow binary is optimized to use available CPU instructions in performance-critical operations.\n",
      "To enable the following instructions: AVX2 AVX512F AVX512_VNNI FMA, in other operations, rebuild TensorFlow with the appropriate compiler flags.\n"
     ]
    }
   ],
   "source": [
    "import cv2\n",
    "import numpy as np\n",
    "import os\n",
    "import matplotlib.pyplot as plt\n",
    "import mediapipe as mp\n"
   ]
  },
  {
   "cell_type": "code",
   "execution_count": 2,
   "metadata": {},
   "outputs": [],
   "source": [
    "input_dir = './data/'\n",
    "output_dir = './data2/'"
   ]
  },
  {
   "cell_type": "code",
   "execution_count": 4,
   "metadata": {},
   "outputs": [],
   "source": [
    "frame_rate = 1\n",
    "def extract_frame(video_path, output_dir, frame_rate):\n",
    "    video = cv2.VideoCapture(video_path)\n",
    "    video_fps = int(video.get(cv2.CAP_PROP_FPS))\n",
    "    success, frame = video.read()\n",
    "    frame_count = 0\n",
    "\n",
    "    while success:\n",
    "        if frame_count % (video_fps // frame_rate) == 0:\n",
    "            frame_path = os.path.join(output_dir, f'{frame_count}.jpg')\n",
    "            cv2.imwrite(frame_path, frame)\n",
    "\n",
    "        success, frame = video.read()\n",
    "        frame_count += 1\n",
    "    \n",
    "    video.release()\n",
    "\n",
    "for subfolder in os.listdir(input_dir):\n",
    "    subfolder_path = os.path.join(input_dir, subfolder)\n",
    "\n",
    "    # Make sure it's a directory\n",
    "    if os.path.isdir(subfolder_path):\n",
    "        # Loop through each video file in the subfolder\n",
    "        for video_file in os.listdir(subfolder_path):\n",
    "            video_path = os.path.join(subfolder_path, video_file)\n",
    "            # Check if the file is a video\n",
    "            if os.path.isfile(video_path) and video_path.endswith(('.mp4', '.MOV')):\n",
    "                # Create a corresponding output folder for the frames\n",
    "\n",
    "                output_folder_path = os.path.join(subfolder_path, video_file.split('.')[0] + '_frames')\n",
    "                if not os.path.exists(output_folder_path):\n",
    "                    os.makedirs(output_folder_path)\n",
    "                # Extract and save frames\n",
    "                extract_frame(video_path, output_folder_path, frame_rate)"
   ]
  },
  {
   "cell_type": "code",
   "execution_count": null,
   "metadata": {},
   "outputs": [],
   "source": [
    "frame_rate = 1\n",
    "\n",
    "def extract_frames(video_path, output_dir, frame_rate):\n",
    "    video = cv2.VideoCapture(video_path)\n",
    "    video_fps = int(video.get(cv2.CAP_PROP_FPS))\n",
    "    success, frame = video.read()\n",
    "    frame_count = 0\n",
    "\n",
    "    while success:\n",
    "        if frame_count % (video_fps // frame_rate) == 0:\n",
    "            frame_path = os.path.join(output_dir, f'{frame_count}.jpg')\n",
    "            cv2.imwrite(frame_path, frame)\n",
    "\n",
    "        success, frame = video.read()\n",
    "        frame_count += 1\n",
    "    \n",
    "    video.release()\n",
    "\n",
    "\n",
    "def ensure_dir(directory):\n",
    "    if not os.path.exists(directory):\n",
    "        os.makedirs(directory)\n",
    "\n",
    "# Walk through the input dataset directory and process videos\n",
    "for set_name in os.listdir(input_dir):\n",
    "    set_path = os.path.join(input_dir, set_name)\n",
    "    for class_name in os.listdir(set_path):\n",
    "        class_path = os.path.join(set_path, class_name)\n",
    "        if not os.path.isdir(class_path): \n",
    "            continue\n",
    "        output_class_path = os.path.join(output_dir, set_name, class_name)\n",
    "        ensure_dir(output_class_path)\n",
    "\n",
    "        for video_name in os.listdir(class_path):\n",
    "            video_path = os.path.join(class_path, video_name)\n",
    "            if not video_name.lower().endswith(('.mp4', '.MOV')):  # Check for video files\n",
    "                continue\n",
    "            output_video_path = os.path.join(output_class_path, video_name.split('.')[0])\n",
    "            ensure_dir(output_video_path)\n",
    "\n",
    "            extract_frames(video_path, output_video_path, frame_rate)\n",
    "\n",
    "print(\"Frame extraction completed.\")    "
   ]
  },
  {
   "cell_type": "code",
   "execution_count": 6,
   "metadata": {},
   "outputs": [
    {
     "name": "stderr",
     "output_type": "stream",
     "text": [
      "I0000 00:00:1707720863.614101       1 gl_context.cc:344] GL version: 2.1 (2.1 INTEL-20.6.4), renderer: Intel(R) Iris(TM) Plus Graphics OpenGL Engine\n"
     ]
    }
   ],
   "source": [
    "import pickle\n",
    "\n",
    "mp_hands = mp.solutions.hands\n",
    "mp_drawing = mp.solutions.drawing_utils\n",
    "mp_drawing_styles = mp.solutions.drawing_styles\n",
    "\n",
    "hands = mp_hands.Hands( min_detection_confidence=0.5, min_tracking_confidence=0.5)\n",
    "\n",
    "data = []\n",
    "labels = []\n",
    "for dir_ in os.listdir(output_dir):\n",
    "    for img_path in os.listdir(os.path.join(output_dir, dir_)):\n",
    "        data_aux = []\n",
    "        img = cv2.imread(os.path.join(output_dir, dir_, img_path))\n",
    "        im_rgb = cv2.cvtColor(img, cv2.COLOR_BGR2RGB)\n",
    "\n",
    "        results = hands.process(im_rgb)\n",
    "        if results.multi_hand_landmarks:\n",
    "            for hand_landmarks in results.multi_hand_landmarks:\n",
    "                for i in range(len(hand_landmarks.landmark)):\n",
    "                    x = hand_landmarks.landmark[i].x\n",
    "                    y = hand_landmarks.landmark[i].y \n",
    "                    data_aux.append(x)\n",
    "                    data_aux.append(y)\n",
    "            data.append(data_aux)\n",
    "            labels.append(dir_)\n",
    "\n",
    "\n",
    "f = open(\"datasets2.pickle\", \"wb\")\n",
    "pickle.dump({\"data\": data, \"label\": labels}, f)    \n",
    "f.close()                                 "
   ]
  },
  {
   "cell_type": "code",
   "execution_count": null,
   "metadata": {},
   "outputs": [],
   "source": []
  }
 ],
 "metadata": {
  "kernelspec": {
   "display_name": "Python 3",
   "language": "python",
   "name": "python3"
  },
  "language_info": {
   "codemirror_mode": {
    "name": "ipython",
    "version": 3
   },
   "file_extension": ".py",
   "mimetype": "text/x-python",
   "name": "python",
   "nbconvert_exporter": "python",
   "pygments_lexer": "ipython3",
   "version": "3.11.5"
  }
 },
 "nbformat": 4,
 "nbformat_minor": 2
}
